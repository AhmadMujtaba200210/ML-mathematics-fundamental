{
  "nbformat": 4,
  "nbformat_minor": 0,
  "metadata": {
    "colab": {
      "provenance": [],
      "authorship_tag": "ABX9TyNtyO7L2d+giSJeaKO16n5a",
      "include_colab_link": true
    },
    "kernelspec": {
      "name": "python3",
      "display_name": "Python 3"
    },
    "language_info": {
      "name": "python"
    }
  },
  "cells": [
    {
      "cell_type": "markdown",
      "metadata": {
        "id": "view-in-github",
        "colab_type": "text"
      },
      "source": [
        "<a href=\"https://colab.research.google.com/github/AhmadMujtaba200210/ML-mathematics-fundamental/blob/develop/Norms_%26_Unit.ipynb\" target=\"_parent\"><img src=\"https://colab.research.google.com/assets/colab-badge.svg\" alt=\"Open In Colab\"/></a>"
      ]
    },
    {
      "cell_type": "markdown",
      "source": [
        "### $L^{2}$ Norm\n",
        "\n"
      ],
      "metadata": {
        "id": "Mmn5OQFj7Rvq"
      }
    },
    {
      "cell_type": "code",
      "execution_count": null,
      "metadata": {
        "id": "OfRdBU9860G5"
      },
      "outputs": [],
      "source": [
        "import numpy as np"
      ]
    },
    {
      "cell_type": "code",
      "source": [
        "x = [25,5,10]"
      ],
      "metadata": {
        "id": "vagHs9-A67vm"
      },
      "execution_count": null,
      "outputs": []
    },
    {
      "cell_type": "code",
      "source": [
        "np.linalg.norm(x)"
      ],
      "metadata": {
        "colab": {
          "base_uri": "https://localhost:8080/"
        },
        "id": "V1L3s_ZH7BPk",
        "outputId": "0bb35d5f-294c-4c69-e48f-47723ceaca6d"
      },
      "execution_count": null,
      "outputs": [
        {
          "output_type": "execute_result",
          "data": {
            "text/plain": [
              "27.386127875258307"
            ]
          },
          "metadata": {},
          "execution_count": 3
        }
      ]
    },
    {
      "cell_type": "markdown",
      "source": [
        "$L^2$ norm is basically used to find Eucelidan Distance(Simple Distance),\n",
        "we can say the vector x has length of 27.3861278752"
      ],
      "metadata": {
        "id": "l3p9b8jVOHFy"
      }
    },
    {
      "cell_type": "markdown",
      "source": [
        "### $L^{1}$ Norm"
      ],
      "metadata": {
        "id": "xu8e_Nts8X8z"
      }
    },
    {
      "cell_type": "code",
      "source": [
        "x"
      ],
      "metadata": {
        "colab": {
          "base_uri": "https://localhost:8080/"
        },
        "id": "WyjbhsFXNZ39",
        "outputId": "8b597007-f9de-4541-ba2a-511224298a1f"
      },
      "execution_count": null,
      "outputs": [
        {
          "output_type": "execute_result",
          "data": {
            "text/plain": [
              "[25, 5, 10]"
            ]
          },
          "metadata": {},
          "execution_count": 4
        }
      ]
    },
    {
      "cell_type": "code",
      "source": [
        "np.abs(x[0])+np.abs(x[1])+np.abs(x[2])"
      ],
      "metadata": {
        "colab": {
          "base_uri": "https://localhost:8080/"
        },
        "id": "EDxGz0lpNjit",
        "outputId": "7e54dcd2-47b6-4d46-ee21-13df8500325b"
      },
      "execution_count": null,
      "outputs": [
        {
          "output_type": "execute_result",
          "data": {
            "text/plain": [
              "40"
            ]
          },
          "metadata": {},
          "execution_count": 5
        }
      ]
    },
    {
      "cell_type": "markdown",
      "source": [
        "### $L^2_2$ Norm"
      ],
      "metadata": {
        "id": "EQzmKnuXOwEa"
      }
    },
    {
      "cell_type": "code",
      "source": [
        "x"
      ],
      "metadata": {
        "colab": {
          "base_uri": "https://localhost:8080/"
        },
        "id": "SL1TS75uQj2U",
        "outputId": "fbcb73f0-fe3e-43ea-a820-28166719485f"
      },
      "execution_count": null,
      "outputs": [
        {
          "output_type": "execute_result",
          "data": {
            "text/plain": [
              "[25, 5, 10]"
            ]
          },
          "metadata": {},
          "execution_count": 6
        }
      ]
    },
    {
      "cell_type": "code",
      "source": [
        "np.dot(x,x)"
      ],
      "metadata": {
        "colab": {
          "base_uri": "https://localhost:8080/"
        },
        "id": "B2ZR-o2bQlpL",
        "outputId": "77a23b88-eee0-45f4-b9c8-d2a638b85d22"
      },
      "execution_count": null,
      "outputs": [
        {
          "output_type": "execute_result",
          "data": {
            "text/plain": [
              "750"
            ]
          },
          "metadata": {},
          "execution_count": 8
        }
      ]
    },
    {
      "cell_type": "markdown",
      "source": [
        "## other type of Norms are:\n",
        "\n",
        "#### max Norm $L^∞$ and generic $L^p$ norm"
      ],
      "metadata": {
        "id": "aJbjc3fUIgul"
      }
    }
  ]
}