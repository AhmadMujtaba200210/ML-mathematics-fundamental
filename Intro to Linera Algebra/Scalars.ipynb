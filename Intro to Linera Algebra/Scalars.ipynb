{
  "nbformat": 4,
  "nbformat_minor": 0,
  "metadata": {
    "colab": {
      "provenance": [],
      "collapsed_sections": [
        "iZkzpP4U4Nf-",
        "SWygaVhYPCel",
        "dcPvI6lTQL88"
      ],
      "authorship_tag": "ABX9TyNf+IX1D83c+M3usdgaSW4f",
      "include_colab_link": true
    },
    "kernelspec": {
      "name": "python3",
      "display_name": "Python 3"
    },
    "language_info": {
      "name": "python"
    }
  },
  "cells": [
    {
      "cell_type": "markdown",
      "metadata": {
        "id": "view-in-github",
        "colab_type": "text"
      },
      "source": [
        "<a href=\"https://colab.research.google.com/github/AhmadMujtaba200210/ML-mathematics-fundamental/blob/develop/Scalars.ipynb\" target=\"_parent\"><img src=\"https://colab.research.google.com/assets/colab-badge.svg\" alt=\"Open In Colab\"/></a>"
      ]
    },
    {
      "cell_type": "markdown",
      "source": [
        "### scalar rank 0 tensors"
      ],
      "metadata": {
        "id": "iZkzpP4U4Nf-"
      }
    },
    {
      "cell_type": "code",
      "execution_count": 1,
      "metadata": {
        "colab": {
          "base_uri": "https://localhost:8080/"
        },
        "id": "45sW7R_K38kl",
        "outputId": "e4b3609c-130e-438b-a80a-91a4061aec9c"
      },
      "outputs": [
        {
          "output_type": "execute_result",
          "data": {
            "text/plain": [
              "5"
            ]
          },
          "metadata": {},
          "execution_count": 1
        }
      ],
      "source": [
        "x=5\n",
        "x"
      ]
    },
    {
      "cell_type": "code",
      "source": [
        "y=5.5\n",
        "y"
      ],
      "metadata": {
        "colab": {
          "base_uri": "https://localhost:8080/"
        },
        "id": "H0swisCg4n6W",
        "outputId": "0a95b6d5-3f13-4c61-9de2-d0dba258c07f"
      },
      "execution_count": 4,
      "outputs": [
        {
          "output_type": "execute_result",
          "data": {
            "text/plain": [
              "5.5"
            ]
          },
          "metadata": {},
          "execution_count": 4
        }
      ]
    },
    {
      "cell_type": "code",
      "source": [
        "type(y)\n"
      ],
      "metadata": {
        "colab": {
          "base_uri": "https://localhost:8080/"
        },
        "id": "e44JlYJN5aX_",
        "outputId": "bf4bedff-23b3-43e2-ee5e-71475ff04ab6"
      },
      "execution_count": 6,
      "outputs": [
        {
          "output_type": "execute_result",
          "data": {
            "text/plain": [
              "float"
            ]
          },
          "metadata": {},
          "execution_count": 6
        }
      ]
    },
    {
      "cell_type": "markdown",
      "source": [
        "## Scalars in Pytorch"
      ],
      "metadata": {
        "id": "SWygaVhYPCel"
      }
    },
    {
      "cell_type": "code",
      "source": [
        "import torch"
      ],
      "metadata": {
        "id": "XIz-QtafOXF4"
      },
      "execution_count": 7,
      "outputs": []
    },
    {
      "cell_type": "code",
      "source": [
        "x_pt= torch.tensor(30) # specifying datatype is optional i.e dtype= torch.flaot32\n",
        "x_pt"
      ],
      "metadata": {
        "colab": {
          "base_uri": "https://localhost:8080/"
        },
        "id": "ByLEx3hpPOcw",
        "outputId": "40fee5fc-2980-4eb4-b157-5049ac8cb00e"
      },
      "execution_count": 10,
      "outputs": [
        {
          "output_type": "execute_result",
          "data": {
            "text/plain": [
              "tensor(30)"
            ]
          },
          "metadata": {},
          "execution_count": 10
        }
      ]
    },
    {
      "cell_type": "markdown",
      "source": [
        "#### It has zero dimension"
      ],
      "metadata": {
        "id": "dcPvI6lTQL88"
      }
    },
    {
      "cell_type": "code",
      "source": [
        "x_pt.shape "
      ],
      "metadata": {
        "colab": {
          "base_uri": "https://localhost:8080/"
        },
        "id": "1n-jW3ZWP-vO",
        "outputId": "7a09882c-8a78-42bc-e106-42a8d2d8928a"
      },
      "execution_count": 12,
      "outputs": [
        {
          "output_type": "execute_result",
          "data": {
            "text/plain": [
              "torch.Size([])"
            ]
          },
          "metadata": {},
          "execution_count": 12
        }
      ]
    },
    {
      "cell_type": "markdown",
      "source": [
        "## Scalars in TensorFlow"
      ],
      "metadata": {
        "id": "6EreW71KSg4K"
      }
    },
    {
      "cell_type": "code",
      "source": [
        "import tensorflow as tf"
      ],
      "metadata": {
        "id": "lybeotNsSZdY"
      },
      "execution_count": 13,
      "outputs": []
    },
    {
      "cell_type": "code",
      "source": [
        "x_tf= tf.Variable(25) # we can specify the datatype of scalar tensors i.e dtype = tf.int32\n",
        "x_tf"
      ],
      "metadata": {
        "id": "nB0CvskiTMFJ"
      },
      "execution_count": null,
      "outputs": []
    },
    {
      "cell_type": "markdown",
      "source": [
        "#### It has zero dimension"
      ],
      "metadata": {
        "id": "6TilDVMeUXmt"
      }
    },
    {
      "cell_type": "code",
      "source": [
        "x_tf.shape"
      ],
      "metadata": {
        "id": "I-A6qsAPUNRl"
      },
      "execution_count": null,
      "outputs": []
    },
    {
      "cell_type": "code",
      "source": [
        "y_tf="
      ],
      "metadata": {
        "id": "qZ0tilOJXdPl"
      },
      "execution_count": null,
      "outputs": []
    }
  ]
}